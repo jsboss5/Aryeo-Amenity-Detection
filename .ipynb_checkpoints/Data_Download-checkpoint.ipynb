{
 "cells": [
  {
   "cell_type": "markdown",
   "metadata": {
    "colab_type": "text",
    "id": "view-in-github"
   },
   "source": [
    "<a href=\"https://colab.research.google.com/github/jsboss5/Aryeo-Amenity-Detection/blob/master/Data_Download.ipynb\" target=\"_parent\"><img src=\"https://colab.research.google.com/assets/colab-badge.svg\" alt=\"Open In Colab\"/></a>"
   ]
  },
  {
   "cell_type": "code",
   "execution_count": null,
   "metadata": {
    "colab": {},
    "colab_type": "code",
    "collapsed": true,
    "id": "3GLGAyNBw3WK"
   },
   "outputs": [],
   "source": [
    "!pip3 install tqdm "
   ]
  },
  {
   "cell_type": "code",
   "execution_count": null,
   "metadata": {
    "colab": {},
    "colab_type": "code",
    "collapsed": true,
    "id": "TMH4UeQVz6ph"
   },
   "outputs": [],
   "source": [
    "!pip3 install awscli\n"
   ]
  },
  {
   "cell_type": "code",
   "execution_count": null,
   "metadata": {
    "colab": {},
    "colab_type": "code",
    "collapsed": true,
    "id": "W8Nkk2jdkp7k"
   },
   "outputs": [],
   "source": [
    "!pip3 install wget\n"
   ]
  },
  {
   "cell_type": "code",
   "execution_count": null,
   "metadata": {
    "colab": {},
    "colab_type": "code",
    "collapsed": true,
    "id": "OhBfxoS7k95t"
   },
   "outputs": [],
   "source": [
    "#OBSELETE cd to the folder in google drive where we want to keep the bounding boxes\n",
    "%cd /content/drive/My Drive/Labeled Images/Bounding Boxes - Class Names"
   ]
  },
  {
   "cell_type": "code",
   "execution_count": null,
   "metadata": {
    "colab": {},
    "colab_type": "code",
    "collapsed": true,
    "id": "skRjaZLWkvi5"
   },
   "outputs": [],
   "source": [
    " #OBSELETE\n",
    " # THIS ONLY NEEDS TO BE DONE ONCE BECAUSE GOOGLE DRIVE IS MOUNTED ! DONE\n",
    " # Download required meta-files for V5 - https://storage.googleapis.com/openimages/web/download.html\n",
    "# Training bounding boxes (1.11G)\n",
    "!wget https://storage.googleapis.com/openimages/2018_04/train/train-annotations-bbox.csv\n",
    "\n",
    "# Validating bounding boxes (23.94M)\n",
    "!wget https://storage.googleapis.com/openimages/v5/validation-annotations-bbox.csv\n",
    "    \n",
    "# Testing bounding boxes (73.89M)\n",
    "!wget https://storage.googleapis.com/openimages/v5/test-annotations-bbox.csv\n",
    "\n",
    "# # Class Names (11.73K)\n",
    "!wget https://storage.googleapis.com/openimages/v5/class-descriptions-boxable.csv"
   ]
  },
  {
   "cell_type": "code",
   "execution_count": null,
   "metadata": {
    "colab": {},
    "colab_type": "code",
    "collapsed": true,
    "id": "-9CxJvDgmPJ0"
   },
   "outputs": [],
   "source": [
    "# Classes of amenities We mostly cares about\n",
    "subset = [\"Toilet\",\n",
    "          \"Swimming_pool\",\n",
    "          \"Bed\",\n",
    "          \"Billiard_table\",\n",
    "          \"Sink\",\n",
    "          \"Fountain\",\n",
    "          \"Oven\",\n",
    "          \"Ceiling_fan\",\n",
    "          \"Television\",\n",
    "          \"Microwave_oven\",\n",
    "          \"Gas_stove\",\n",
    "          \"Refrigerator\",\n",
    "          \"Kitchen_&_dining_room_table\",\n",
    "          \"Washing_machine\",\n",
    "          \"Bathtub\",\n",
    "          \"Stairs\",\n",
    "          \"Fireplace\",\n",
    "          \"Pillow\",\n",
    "          \"Mirror\",\n",
    "          \"Shower\",\n",
    "          \"Couch\",\n",
    "          \"Countertop\",\n",
    "          \"Coffeemaker\",\n",
    "          \"Dishwasher\",\n",
    "          \"Sofa_bed\",\n",
    "          \"Tree_house\",\n",
    "          \"Towel\",\n",
    "          \"Porch\",\n",
    "          \"Wine_rack\",\n",
    "          \"Jacuzzi\"]"
   ]
  },
  {
   "cell_type": "code",
   "execution_count": null,
   "metadata": {
    "colab": {},
    "colab_type": "code",
    "collapsed": true,
    "id": "b_cjNVkpmgpT"
   },
   "outputs": [],
   "source": [
    "#get into labeled images  directory\n",
    "%cd /content/drive/My Drive/Labeled Images"
   ]
  },
  {
   "cell_type": "code",
   "execution_count": null,
   "metadata": {
    "colab": {},
    "colab_type": "code",
    "collapsed": true,
    "id": "cw3GucXAyI_y"
   },
   "outputs": [],
   "source": [
    "#Replaces underscores with spaces - matches airbnb classes with those from website\n",
    "for i in range(len(subset)):\n",
    "  subset[i] = subset[i].replace(\"_\", \" \")\n",
    "\n",
    "print(subset)"
   ]
  },
  {
   "cell_type": "code",
   "execution_count": null,
   "metadata": {
    "colab": {},
    "colab_type": "code",
    "collapsed": true,
    "id": "xBIPhEsw3lr0"
   },
   "outputs": [],
   "source": [
    "#convert this list to a string for the command line\n",
    "subset_string = str()\n",
    "for amenity in subset:\n",
    "  subset_string += str(amenity) + \",\"\n",
    "subset_string = subset_string[:len(subset_string)-1]\n",
    "print(subset_string)"
   ]
  },
  {
   "cell_type": "code",
   "execution_count": null,
   "metadata": {
    "colab": {},
    "colab_type": "code",
    "collapsed": true,
    "id": "HRwg9Tg5p0zM"
   },
   "outputs": [],
   "source": [
    "#DONE\n",
    "#going to try downloading all of them for validation now - goes into validation folder\n",
    "# I'm not quite sure which files belong to which class though, I'm thinking about having seperate folders \n",
    "# for each class, though I think I might figure out as I follow his replication\n",
    "!python3 downloadOI.py --classes 'Toilet,Swimming pool,Bed,Billiard table,Sink,Fountain,Oven,Ceiling fan,Television,Microwave oven,Gas stove,Refrigerator,Kitchen & dining room table,Washing machine,Bathtub,Stairs,Fireplace,Pillow,Mirror,Shower,Couch,Countertop,Coffeemaker,Dishwasher,Sofa bed,Tree house,Towel,Porch,Wine rack,Jacuzzi' --dataset validation\n"
   ]
  },
  {
   "cell_type": "markdown",
   "metadata": {
    "colab_type": "text",
    "id": "-VZgAH7GNilN"
   },
   "source": [
    "I am going to try to download all of the training data one class at a time"
   ]
  },
  {
   "cell_type": "code",
   "execution_count": null,
   "metadata": {
    "colab": {},
    "colab_type": "code",
    "collapsed": true,
    "id": "fAMjV_ZaNuTH"
   },
   "outputs": [],
   "source": [
    "%cd /content/drive/My Drive/Labeled Images/train"
   ]
  },
  {
   "cell_type": "code",
   "execution_count": null,
   "metadata": {
    "colab": {},
    "colab_type": "code",
    "collapsed": true,
    "id": "6_Nwfjt4Nnb4"
   },
   "outputs": [],
   "source": [
    "#First Class - Toilet - DONE\n",
    "!python3 downloadOI.py --classes 'Toilet' --dataset train\n"
   ]
  },
  {
   "cell_type": "code",
   "execution_count": null,
   "metadata": {
    "colab": {},
    "colab_type": "code",
    "collapsed": true,
    "id": "H1z9eOfGdabP"
   },
   "outputs": [],
   "source": [
    "#Second Class - Swimming Pool - DONE\n",
    "!python3 downloadOI.py --classes 'Swimming pool' --dataset train"
   ]
  },
  {
   "cell_type": "code",
   "execution_count": null,
   "metadata": {
    "colab": {},
    "colab_type": "code",
    "collapsed": true,
    "id": "B6wlNguOT5O1"
   },
   "outputs": [],
   "source": [
    "#THIRD Class - Swimming Pool - DONE\n",
    "!python3 downloadOI.py --classes 'Bed' --dataset train"
   ]
  },
  {
   "cell_type": "code",
   "execution_count": null,
   "metadata": {
    "colab": {},
    "colab_type": "code",
    "collapsed": true,
    "id": "X-ixuwNXtEsZ"
   },
   "outputs": [],
   "source": [
    "#Fourth Class Billiar Table - DONE\n",
    "!python3 downloadOI.py --classes 'Billiard table' --dataset train"
   ]
  },
  {
   "cell_type": "code",
   "execution_count": null,
   "metadata": {
    "colab": {},
    "colab_type": "code",
    "collapsed": true,
    "id": "1-JQOlmJ3De6"
   },
   "outputs": [],
   "source": [
    "#Fifth Class \n",
    "!python3 downloadOI.py --classes 'Sink' --dataset train"
   ]
  },
  {
   "cell_type": "code",
   "execution_count": null,
   "metadata": {
    "colab": {},
    "colab_type": "code",
    "collapsed": true,
    "id": "I2a-2ntlBduF"
   },
   "outputs": [],
   "source": [
    "#up through 9th is being downloaded"
   ]
  },
  {
   "cell_type": "code",
   "execution_count": null,
   "metadata": {
    "colab": {},
    "colab_type": "code",
    "collapsed": true,
    "id": "J-2uLAegYsVD"
   },
   "outputs": [],
   "source": [
    "#10th class - Microwave_oven\n",
    "!python3 downloadOI.py --classes 'Microwave oven' --dataset train"
   ]
  },
  {
   "cell_type": "code",
   "execution_count": null,
   "metadata": {
    "colab": {},
    "colab_type": "code",
    "collapsed": true,
    "id": "8zxNyJOsPYpv"
   },
   "outputs": [],
   "source": [
    "#14th class - Washing machine\n",
    "!python3 downloadOI.py --classes 'Washing machine' --dataset train"
   ]
  },
  {
   "cell_type": "code",
   "execution_count": null,
   "metadata": {
    "colab": {},
    "colab_type": "code",
    "collapsed": true,
    "id": "eHO92R4hSo4N"
   },
   "outputs": [],
   "source": [
    "#17th class - Fireplace\n",
    "!python3 downloadOI.py --classes 'Fireplace' --dataset train"
   ]
  },
  {
   "cell_type": "code",
   "execution_count": null,
   "metadata": {
    "colab": {},
    "colab_type": "code",
    "collapsed": true,
    "id": "7HfVlNPJY5K3"
   },
   "outputs": [],
   "source": [
    "#19th class - Mirror\n",
    "!python3 downloadOI.py --classes 'Mirror' --dataset train"
   ]
  },
  {
   "cell_type": "code",
   "execution_count": null,
   "metadata": {
    "colab": {},
    "colab_type": "code",
    "collapsed": true,
    "id": "Ksnx2k9Eg0Aw"
   },
   "outputs": [],
   "source": [
    "#21st class - Couch\n",
    "!python3 downloadOI.py --classes 'Couch' --dataset train"
   ]
  },
  {
   "cell_type": "code",
   "execution_count": null,
   "metadata": {
    "colab": {},
    "colab_type": "code",
    "collapsed": true,
    "id": "aB0nt3sDHYAs"
   },
   "outputs": [],
   "source": [
    "#23rd class - Coffeemaker\n",
    "!python3 downloadOI.py --classes 'Coffeemaker' --dataset train"
   ]
  },
  {
   "cell_type": "code",
   "execution_count": null,
   "metadata": {
    "colab": {},
    "colab_type": "code",
    "collapsed": true,
    "id": "uQy9YUbiOEAF"
   },
   "outputs": [],
   "source": [
    "#27th class - Coffeemaker\n",
    "!python3 downloadOI.py --classes 'Towel' --dataset train"
   ]
  },
  {
   "cell_type": "code",
   "execution_count": null,
   "metadata": {
    "colab": {
     "base_uri": "https://localhost:8080/",
     "height": 117
    },
    "colab_type": "code",
    "collapsed": false,
    "id": "VDzum3DoQaKj",
    "outputId": "c581d2c0-d49b-42ec-f874-d75f7ae44191"
   },
   "outputs": [
    {
     "name": "stdout",
     "output_type": "stream",
     "text": [
      "CPU count: 4\n",
      "Downloading class 0: Porch\n",
      "grep /m/04m6gz ./train-annotations-bbox.csv\n",
      "Downloading: 2774 images | Num classes: 1 | Dataset: train\n",
      "100% 2771/2774 [1:21:43<00:09,  3.10s/it]"
     ]
    }
   ],
   "source": [
    "#28th class Porch \n",
    "!python3 downloadOI.py --classes 'Porch' --dataset train"
   ]
  }
 ],
 "metadata": {
  "accelerator": "GPU",
  "colab": {
   "authorship_tag": "ABX9TyNd5WJh9X3OSNciVg9Jy2xR",
   "include_colab_link": true,
   "machine_shape": "hm",
   "mount_file_id": "1wUr6XG5hKTcuKhxctDl5sjZtXJaEQXbz",
   "name": "Data Download.ipynb",
   "provenance": []
  },
  "kernelspec": {
   "display_name": "Python 3",
   "language": "python",
   "name": "python3"
  },
  "language_info": {
   "codemirror_mode": {
    "name": "ipython",
    "version": 3
   },
   "file_extension": ".py",
   "mimetype": "text/x-python",
   "name": "python",
   "nbconvert_exporter": "python",
   "pygments_lexer": "ipython3",
   "version": "3.5.4"
  }
 },
 "nbformat": 4,
 "nbformat_minor": 0
}
