{
  "nbformat": 4,
  "nbformat_minor": 0,
  "metadata": {
    "colab": {
      "name": "Airbnb Rep.ipynb",
      "provenance": [],
      "collapsed_sections": [],
      "include_colab_link": true
    },
    "kernelspec": {
      "name": "python3",
      "display_name": "Python 3"
    },
    "accelerator": "GPU"
  },
  "cells": [
    {
      "cell_type": "markdown",
      "metadata": {
        "id": "view-in-github",
        "colab_type": "text"
      },
      "source": [
        "<a href=\"https://colab.research.google.com/github/jsboss5/Aryeo-Amenity-Detection/blob/master/Airbnb_Rep.ipynb\" target=\"_parent\"><img src=\"https://colab.research.google.com/assets/colab-badge.svg\" alt=\"Open In Colab\"/></a>"
      ]
    },
    {
      "cell_type": "markdown",
      "metadata": {
        "id": "sWAhFEJs5tNF",
        "colab_type": "text"
      },
      "source": [
        "**Up until line 14 it's just installing**"
      ]
    },
    {
      "cell_type": "code",
      "metadata": {
        "id": "CGLlgR5WuxfJ",
        "colab_type": "code",
        "colab": {}
      },
      "source": [
        "# Import Packages\n",
        "import os\n",
        "import pandas as pd\n",
        "import random\n",
        "import cv2"
      ],
      "execution_count": 0,
      "outputs": []
    },
    {
      "cell_type": "code",
      "metadata": {
        "id": "t6GDF1G2xsas",
        "colab_type": "code",
        "colab": {}
      },
      "source": [
        "# # Install Detectron2 (locally)\n",
        "import sys\n",
        "!pip3 install -U torch==1.4 torchvision==0.5 -f https://download.pytorch.org/whl/torch_stable.html\n",
        "!pip3 install cython pyyaml==5.1\n",
        "!pip3 install 'git+https://github.com/cocodataset/cocoapi.git#subdirectory=PythonAPI'\n",
        "!pip3 install detectron2 -f https://dl.fbaipublicfiles.com/detectron2/wheels/cu100/index.html"
      ],
      "execution_count": 0,
      "outputs": []
    },
    {
      "cell_type": "code",
      "metadata": {
        "id": "T25HcE9nyd8O",
        "colab_type": "code",
        "colab": {}
      },
      "source": [
        "import torch, torchvision\n",
        "torch.__version__\n",
        "!gcc --version"
      ],
      "execution_count": 0,
      "outputs": []
    },
    {
      "cell_type": "code",
      "metadata": {
        "id": "ipGb73_BzSen",
        "colab_type": "code",
        "colab": {}
      },
      "source": [
        "# Build Detectron2 from source\n",
        "!pip3 install 'git+https://github.com/facebookresearch/detectron2.git'"
      ],
      "execution_count": 0,
      "outputs": []
    },
    {
      "cell_type": "code",
      "metadata": {
        "id": "VR0MNOM-0DPN",
        "colab_type": "code",
        "colab": {}
      },
      "source": [
        "# Import Detectron2/requirements\n",
        "# Setup detectron2 logger\n",
        "import detectron2\n",
        "from detectron2.utils.logger import setup_logger\n",
        "setup_logger()\n",
        "\n",
        "# import some common libraries\n",
        "import matplotlib.pyplot as plt\n",
        "import numpy as np\n",
        "import cv2\n",
        "import random\n",
        "import os\n",
        "import pandas as pd\n",
        "\n",
        "# import some common detectron2 utilities\n",
        "from detectron2 import model_zoo\n",
        "from detectron2.engine import DefaultPredictor\n",
        "from detectron2.config import get_cfg\n",
        "from detectron2.utils.visualizer import Visualizer\n",
        "from detectron2.data import MetadataCatalog\n",
        "\n",
        "# import torch/torchvision\n",
        "import torch, torchvision\n",
        "torch.__version__\n",
        "!gcc --version"
      ],
      "execution_count": 0,
      "outputs": []
    },
    {
      "cell_type": "code",
      "metadata": {
        "id": "3lIajRr4wbpS",
        "colab_type": "code",
        "colab": {}
      },
      "source": [
        "#install wget\n",
        "!pip3 install wget\n"
      ],
      "execution_count": 0,
      "outputs": []
    },
    {
      "cell_type": "code",
      "metadata": {
        "id": "IJYZHDwHwioq",
        "colab_type": "code",
        "colab": {}
      },
      "source": [
        "#install opencv\n",
        "!pip3 install opencv-python\n"
      ],
      "execution_count": 0,
      "outputs": []
    },
    {
      "cell_type": "code",
      "metadata": {
        "id": "3GLGAyNBw3WK",
        "colab_type": "code",
        "colab": {}
      },
      "source": [
        "!pip3 install tqdm "
      ],
      "execution_count": 0,
      "outputs": []
    },
    {
      "cell_type": "code",
      "metadata": {
        "id": "1MaHTDmzw7Zy",
        "colab_type": "code",
        "colab": {}
      },
      "source": [
        "!pip3 install awscli"
      ],
      "execution_count": 0,
      "outputs": []
    },
    {
      "cell_type": "code",
      "metadata": {
        "id": "OBicot6q5Hek",
        "colab_type": "code",
        "colab": {}
      },
      "source": [
        "# # Download required meta-files for V5 - https://storage.googleapis.com/openimages/web/download.html\n",
        "# Training bounding boxes (1.11G)\n",
        "!wget https://storage.googleapis.com/openimages/2018_04/train/train-annotations-bbox.csv\n",
        "\n",
        "# Validating bounding boxes (23.94M)\n",
        "!wget https://storage.googleapis.com/openimages/v5/validation-annotations-bbox.csv\n",
        "    \n",
        "# Testing bounding boxes (73.89M)\n",
        "!wget https://storage.googleapis.com/openimages/v5/test-annotations-bbox.csv\n",
        "\n",
        "# # Class Names (11.73K)\n",
        "!wget https://storage.googleapis.com/openimages/v5/class-descriptions-boxable.csv"
      ],
      "execution_count": 0,
      "outputs": []
    },
    {
      "cell_type": "markdown",
      "metadata": {
        "id": "24NZsuJB593j",
        "colab_type": "text"
      },
      "source": [
        "**Let's start Manipulating Data!!!!**"
      ]
    },
    {
      "cell_type": "code",
      "metadata": {
        "id": "QbR2awaT6ht1",
        "colab_type": "code",
        "colab": {}
      },
      "source": [
        "# Classes of amenities Airbnb mostly cares about\n",
        "subset = [\"Toilet\",\n",
        "          \"Swimming_pool\",\n",
        "          \"Bed\",\n",
        "          \"Billiard_table\",\n",
        "          \"Sink\",\n",
        "          \"Fountain\",\n",
        "          \"Oven\",\n",
        "          \"Ceiling_fan\",\n",
        "          \"Television\",\n",
        "          \"Microwave_oven\",\n",
        "          \"Gas_stove\",\n",
        "          \"Refrigerator\",\n",
        "          \"Kitchen_&_dining_room_table\",\n",
        "          \"Washing_machine\",\n",
        "          \"Bathtub\",\n",
        "          \"Stairs\",\n",
        "          \"Fireplace\",\n",
        "          \"Pillow\",\n",
        "          \"Mirror\",\n",
        "          \"Shower\",\n",
        "          \"Couch\",\n",
        "          \"Countertop\",\n",
        "          \"Coffeemaker\",\n",
        "          \"Dishwasher\",\n",
        "          \"Sofa_bed\",\n",
        "          \"Tree_house\",\n",
        "          \"Towel\",\n",
        "          \"Porch\",\n",
        "          \"Wine_rack\",\n",
        "          \"Jacuzzi\"]"
      ],
      "execution_count": 0,
      "outputs": []
    },
    {
      "cell_type": "code",
      "metadata": {
        "id": "s32JuE_8yI-K",
        "colab_type": "code",
        "colab": {}
      },
      "source": [
        "#download all coffeemaker images for train and test\n",
        "!python3 downloadOI.py --classes 'Coffeemaker' --dataset train\n",
        "!python3 downloadOI.py --classes 'Coffeemaker' --dataset validation\n"
      ],
      "execution_count": 0,
      "outputs": []
    },
    {
      "cell_type": "code",
      "metadata": {
        "id": "cw3GucXAyI_y",
        "colab_type": "code",
        "colab": {}
      },
      "source": [
        "#Replaces underscores with spaces - matches airbnb classes with those from website\n",
        "for i in range(len(subset)):\n",
        "  subset[i] = subset[i].replace(\"_\", \" \")\n",
        "\n",
        "print(subset)"
      ],
      "execution_count": 0,
      "outputs": []
    },
    {
      "cell_type": "code",
      "metadata": {
        "id": "xBIPhEsw3lr0",
        "colab_type": "code",
        "colab": {
          "base_uri": "https://localhost:8080/",
          "height": 54
        },
        "outputId": "b5d9a7ac-4ab4-4d34-9c18-c37471bafc4a"
      },
      "source": [
        "#convert this list to a string for the command line\n",
        "subset_string = str()\n",
        "for amenity in subset:\n",
        "  subset_string += str(amenity) + \",\"\n",
        "subset_string = subset_string[:len(subset_string)-1]\n",
        "print(subset_string)"
      ],
      "execution_count": 28,
      "outputs": [
        {
          "output_type": "stream",
          "text": [
            "Toilet,Swimming pool,Bed,Billiard table,Sink,Fountain,Oven,Ceiling fan,Television,Microwave oven,Gas stove,Refrigerator,Kitchen & dining room table,Washing machine,Bathtub,Stairs,Fireplace,Pillow,Mirror,Shower,Couch,Countertop,Coffeemaker,Dishwasher,Sofa bed,Tree house,Towel,Porch,Wine rack,Jacuzzi\n"
          ],
          "name": "stdout"
        }
      ]
    },
    {
      "cell_type": "code",
      "metadata": {
        "id": "Brf3kMAT44Bt",
        "colab_type": "code",
        "colab": {}
      },
      "source": [
        "!python3 downloadOI.py --classes 'Toilet,Swimming pool,Bed,Billiard table,Sink,Fountain,Oven,Ceiling fan,Television,Microwave oven,Gas stove,Refrigerator,Kitchen & dining room table,Washing machine,Bathtub,Stairs,Fireplace,Pillow,Mirror,Shower,Couch,Countertop,Coffeemaker,Dishwasher,Sofa bed,Tree house,Towel,Porch,Wine rack,Jacuzzi' --dataset validation\n"
      ],
      "execution_count": 0,
      "outputs": []
    }
  ]
}