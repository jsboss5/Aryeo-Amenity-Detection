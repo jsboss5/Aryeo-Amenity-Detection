{
 "cells": [
  {
   "cell_type": "markdown",
   "metadata": {},
   "source": [
    "# This Visualizes Predictions generated from save predictions\n",
    "## adapted from Ensemble.py\n",
    "#### Go to the main function down below, change to the correct csv file predictions, and use correct ensemble method. I reccomend the WBF one"
   ]
  },
  {
   "cell_type": "code",
   "execution_count": 3,
   "metadata": {
    "collapsed": true
   },
   "outputs": [],
   "source": [
    "import cv2\n",
    "import matplotlib.pyplot as plt\n",
    "from matplotlib.pyplot import figure\n",
    "import matplotlib.patches as patches\n",
    "import numpy as np\n",
    "from PIL import Image"
   ]
  },
  {
   "cell_type": "code",
   "execution_count": 2,
   "metadata": {
    "collapsed": true
   },
   "outputs": [],
   "source": [
    "def imgDetect(filename, iou_thr, skip_box_thr, sigma, method):\n",
    "    #return list of \n",
    "    \n",
    "    boxes_list = [] #Get from some json or CSV\n",
    "    scores_list = [] #Get from the json or CSV\n",
    "    labels_list = [] #Get from the json or CSV\n",
    "                     #IDK make it up\n",
    "    \n",
    "    retDic = {}     #Create dictionary that we will return\n",
    "    \n",
    "    \n",
    "    with open(filename) as csvfile:\n",
    "        readCSV = csv.reader(csvfile, delimiter = ',')    #read the csv\n",
    "        next(readCSV)                       # Skip the header\n",
    "        for row in readCSV:                 # for each row \n",
    "            imgID = row[0]\n",
    "            \n",
    "            #print(imgID)\n",
    "            \n",
    "            boxes_list = row[1]         #make boxes_list = first part of each line\n",
    "            scores_list = row[2]        #make scores_list second part of line\n",
    "            labels_list = row[3]        #make labels_list 3rd part of line\n",
    "\n",
    "      # This converts all these strings to lists to be passed to the funtions below                    \n",
    "            boxes_list = ast.literal_eval(boxes_list)\n",
    "            scores_list = ast.literal_eval(scores_list)\n",
    "            labels_list = ast.literal_eval(labels_list)\n",
    "            \n",
    "       # THIS FIRST CHECKS IF THERE ARE NO PREDICTIONS AT ALL, AND CONTINUES IF SO      \n",
    "            empty = True\n",
    "            for dex in range(len(scores_list)): #if everything is empty continue\n",
    "                if not not scores_list[dex]:   #if theres something there\n",
    "                    empty = False\n",
    "                    \n",
    "            if empty == True:   # IF THERE ARE NO PREDICTIONS AT ALL \n",
    "                continue        # CONTINUE TO NEXT LINE\n",
    "                                 \n",
    "            deleteDex = []\n",
    "            for i in range(len(scores_list)):  #Loop to check EACH prediction empty\n",
    "                if not scores_list[i]:\n",
    "                    deleteDex.append(i)  #if there is no prediction = delete  \n",
    "               \n",
    "            boxes_list_ret  = []          #create new lists to add nonempty lists to\n",
    "            scores_list_ret = []\n",
    "            labels_list_ret = []\n",
    "            \n",
    "            for dex in range(len(scores_list)):\n",
    "                if dex not in deleteDex:                        #only add non empty lists to this list\n",
    "                    boxes_list_ret.append(boxes_list[dex])           \n",
    "                    scores_list_ret.append(scores_list[dex])\n",
    "                    labels_list_ret.append(labels_list[dex])\n",
    "            \n",
    "           \n",
    "            boxes_list = boxes_list_ret       #reset boxes_list ..scres..labels to original variable\n",
    "            scores_list = scores_list_ret\n",
    "            labels_list = labels_list_ret\n",
    "            \n",
    "            \n",
    "            if not (scores_list):    # check AGAIN after deletions \n",
    "                continue             #to see if there are no predictions at all\n",
    "            \n",
    "        \n",
    "        # Adjust number of weights based on number of non empty predictions\n",
    "        \n",
    "            weights = []                        \n",
    "            \n",
    "            for i in range(len(scores_list)):   # Loop through\n",
    "                weights.append(1)           # append a 1 to weights for len\n",
    "            #weights = None\n",
    "          \n",
    "        #Creates a dictionary to add as value to key for each image\n",
    "           \n",
    "            valueDic = {}     # Create a dictionary that will b value of id key\n",
    "            valueDic[\"boxes\"] = ensemble(iou_thr, skip_box_thr, sigma, method, weights, boxes_list, scores_list, labels_list)[0]\n",
    "            \n",
    "            valueDic[\"scores\"] = ensemble(iou_thr, skip_box_thr, sigma, method, weights, boxes_list, scores_list, labels_list)[1]\n",
    "            valueDic[\"labels\"] = ensemble(iou_thr, skip_box_thr, sigma, method, weights, boxes_list, scores_list, labels_list)[2]\n",
    "            \n",
    "            retDic[imgID] = valueDic    #make value dic the value of the id key\n",
    "            #break\n",
    "    \n",
    "    return retDic\n",
    "    "
   ]
  },
  {
   "cell_type": "code",
   "execution_count": null,
   "metadata": {
    "collapsed": true
   },
   "outputs": [],
   "source": [
    "# Feel free to adjust these values\n",
    "def pred2dict(filename, method):\n",
    "    iou_thr = 0.5\n",
    "    skip_box_thr = .0001\n",
    "    sigma = 0.1\n",
    "    #method = \"weighted_boxes_fusion\"      # change this to get different types of ensembling\n",
    "    #print(imgDetect(filename, iou_thr, skip_box_thr, sigma, method))\n",
    "    return imgDetect(filename, iou_thr, skip_box_thr, sigma, method)"
   ]
  },
  {
   "cell_type": "code",
   "execution_count": null,
   "metadata": {
    "collapsed": true
   },
   "outputs": [],
   "source": [
    "# THIS FUNCTION WILL TURN THE RELATIVE COORDINATES TO THE MATPLOT FORM (X1,Y1, WDITH, HEIGHT)\n",
    "def rel_to_matplotlib(bbox, img_path):\n",
    "    img = cv2.imread(img_path)\n",
    "    shape = img.shape    #gets a tuple (height, width)\n",
    "    IMheight = shape[0]    #sets height\n",
    "    IMwidth = shape[1]\n",
    "        \n",
    "    x0 = bbox[0]* IMwidth        #THIS GETS THE FIRST X COORDINATE\n",
    "    y0 = bbox[1] * IMheight       #THIS GETS BOTTOM LEFT Y COORDINATE\n",
    "    \n",
    "    absX = IMwidth * bbox[2]\n",
    "    absY = IMheight * bbox[3]\n",
    "    \n",
    "\n",
    "    width = absX - x0\n",
    "    height = absY - y0\n",
    "    \n",
    "    return [x0,y0,width, height]\n"
   ]
  },
  {
   "cell_type": "code",
   "execution_count": 4,
   "metadata": {
    "collapsed": false
   },
   "outputs": [
    {
     "name": "stdout",
     "output_type": "stream",
     "text": [
      "['Bathtub', 'Bed', 'Billiard_table', 'Ceiling_fan', 'Coffeemaker', 'Couch', 'Countertop', 'Dishwasher', 'Fireplace', 'Fountain', 'Gas_stove', 'Jacuzzi', 'Kitchen_&_dining_room_table', 'Microwave_oven', 'Mirror', 'Oven', 'Pillow', 'Porch', 'Refrigerator', 'Shower', 'Sink', 'Sofa_bed', 'Stairs', 'Swimming_pool', 'Television', 'Toilet', 'Towel', 'Tree_house', 'Washing_machine', 'Wine_rack']\n"
     ]
    }
   ],
   "source": [
    "# Classes of amenities Airbnb mostly cares about\n",
    "subset = [\"Toilet\",\n",
    "          \"Swimming_pool\",\n",
    "          \"Bed\",\n",
    "          \"Billiard_table\",\n",
    "          \"Sink\",\n",
    "          \"Fountain\",\n",
    "          \"Oven\",\n",
    "          \"Ceiling_fan\",\n",
    "          \"Television\",\n",
    "          \"Microwave_oven\",\n",
    "          \"Gas_stove\",\n",
    "          \"Refrigerator\",\n",
    "          \"Kitchen_&_dining_room_table\",\n",
    "          \"Washing_machine\",\n",
    "          \"Bathtub\",\n",
    "          \"Stairs\",\n",
    "          \"Fireplace\",\n",
    "          \"Pillow\",\n",
    "          \"Mirror\",\n",
    "          \"Shower\",\n",
    "          \"Couch\",\n",
    "          \"Countertop\",\n",
    "          \"Coffeemaker\",\n",
    "          \"Dishwasher\",\n",
    "          \"Sofa_bed\",\n",
    "          \"Tree_house\",\n",
    "          \"Towel\",\n",
    "          \"Porch\",\n",
    "          \"Wine_rack\",\n",
    "          \"Jacuzzi\"]\n",
    "\n",
    "subset.sort()\n",
    "print(subset)"
   ]
  },
  {
   "cell_type": "code",
   "execution_count": null,
   "metadata": {
    "collapsed": true
   },
   "outputs": [],
   "source": [
    "import random\n",
    "# Running this cell will show the ensemble predictins for 5 random images from validation set\n",
    "if __name__ == \"__main__\":    \n",
    "    method = \"weighted_boxes_fusion\"\n",
    "    ensemblePredictions = pred2dict(\"../BigDogModel/predictions_output.csv\", method)   #change this to change the csv it reads from\n",
    "    for key in random.sample(ensemblePredictions.keys(), 5):\n",
    "        #print(ensemblePredictions[key][\"scores\"])\n",
    "        path = \"../BigDogModel/validation/\" + key    # Make the path variable\n",
    "        bboxes = ensemblePredictions[key]['boxes']   #Get the list of bounding boxes\n",
    "        \n",
    "        im = np.array(Image.open(path))              #start with the visualization thing\n",
    "        fig, ax = plt.subplots(1, figsize=(8, 8))\n",
    "        ax.imshow(im)\n",
    "        \n",
    "        dex = 0                                     #This is to get the correct score for each bounding box\n",
    "        \n",
    "    \n",
    "        \n",
    "        for i in range(len(bboxes)):\n",
    "            bbox = bboxes[i]\n",
    "            label = ensemblePredictions[key][\"labels\"][i]\n",
    "            label = subset[int(label)]\n",
    "            \n",
    "            color = np.random.rand(3,)\n",
    "            newbbox = rel_to_matplotlib(bbox, path)\n",
    "            rect = patches.Rectangle((newbbox[0],newbbox[1]), newbbox[2], newbbox[3], linewidth=3,edgecolor=color,facecolor='none')\n",
    "            ax.add_patch(rect)\n",
    "            ax.annotate(label + \" \"+ str(ensemblePredictions[key][\"scores\"][dex]), color = color, xy = (newbbox[0],newbbox[1]))\n",
    "            dex +=1\n",
    "            \n",
    "        plt.show\n",
    "        \n",
    "        "
   ]
  }
 ],
 "metadata": {
  "kernelspec": {
   "display_name": "Python (myenv)",
   "language": "python",
   "name": "myenv"
  },
  "language_info": {
   "codemirror_mode": {
    "name": "ipython",
    "version": 3
   },
   "file_extension": ".py",
   "mimetype": "text/x-python",
   "name": "python",
   "nbconvert_exporter": "python",
   "pygments_lexer": "ipython3",
   "version": "3.6.7"
  }
 },
 "nbformat": 4,
 "nbformat_minor": 0
}
