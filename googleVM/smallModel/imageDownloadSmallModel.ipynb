{
 "cells": [
  {
   "cell_type": "markdown",
   "metadata": {},
   "source": [
    "# All of the Installations, I am commenting out, but you must install them"
   ]
  },
  {
   "cell_type": "code",
   "execution_count": 1,
   "metadata": {
    "collapsed": false
   },
   "outputs": [],
   "source": [
    "#!pip3 install tqdm\n"
   ]
  },
  {
   "cell_type": "code",
   "execution_count": 2,
   "metadata": {
    "collapsed": true
   },
   "outputs": [],
   "source": [
    "#!pip3 install awscli\n"
   ]
  },
  {
   "cell_type": "code",
   "execution_count": null,
   "metadata": {
    "collapsed": true
   },
   "outputs": [],
   "source": [
    "#!pip3 install wget\n"
   ]
  },
  {
   "cell_type": "markdown",
   "metadata": {},
   "source": [
    "## Below Cell downloads necessary Labels - Only needs to be run once"
   ]
  },
  {
   "cell_type": "code",
   "execution_count": null,
   "metadata": {
    "collapsed": true
   },
   "outputs": [],
   "source": [
    " #THIS ONLY NEEDS TO BE DONE ONCE BECAUSE GOOGLE DRIVE IS MOUNTED ! DONE\n",
    "# Download required meta-files for V5 - https://storage.googleapis.com/openimages/web/download.html\n",
    "\n",
    "# # Training bounding boxes (1.11G)\n",
    "#!wget https://storage.googleapis.com/openimages/2018_04/train/train-annotations-bbox.csv\n",
    "\n",
    "# # Validating bounding boxes (23.94M)\n",
    "#!wget https://storage.googleapis.com/openimages/v5/validation-annotations-bbox.csv\n",
    "    \n",
    "# # Testing bounding boxes (73.89M)\n",
    "#!wget https://storage.googleapis.com/openimages/v5/test-annotations-bbox.csv\n",
    "\n",
    "# # Class Names (11.73K)\n",
    "#!wget https://storage.googleapis.com/openimages/v5/class-descriptions-boxable.csv"
   ]
  },
  {
   "cell_type": "markdown",
   "metadata": {},
   "source": [
    "## "
   ]
  },
  {
   "cell_type": "code",
   "execution_count": null,
   "metadata": {
    "collapsed": true
   },
   "outputs": [],
   "source": [
    "##First Class - CoffeeMaker - DONE\n",
    "#!python3 downloadOI.py --classes 'Coffeemaker' --dataset train\n",
    "#!python3 downloadOI.py --classes 'Coffeemaker' --dataset validation"
   ]
  }
 ],
 "metadata": {
  "kernelspec": {
   "display_name": "Python (myenv)",
   "language": "python",
   "name": "myenv"
  },
  "language_info": {
   "codemirror_mode": {
    "name": "ipython",
    "version": 3
   },
   "file_extension": ".py",
   "mimetype": "text/x-python",
   "name": "python",
   "nbconvert_exporter": "python",
   "pygments_lexer": "ipython3",
   "version": "3.6.7"
  }
 },
 "nbformat": 4,
 "nbformat_minor": 0
}
