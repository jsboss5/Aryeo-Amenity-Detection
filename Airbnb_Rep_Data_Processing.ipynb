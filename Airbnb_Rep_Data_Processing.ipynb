{
  "nbformat": 4,
  "nbformat_minor": 0,
  "metadata": {
    "colab": {
      "name": "Airbnb Rep - Data Processing.ipynb",
      "provenance": [],
      "collapsed_sections": [],
      "machine_shape": "hm",
      "include_colab_link": true
    },
    "kernelspec": {
      "name": "python3",
      "display_name": "Python 3"
    },
    "accelerator": "GPU"
  },
  "cells": [
    {
      "cell_type": "markdown",
      "metadata": {
        "id": "view-in-github",
        "colab_type": "text"
      },
      "source": [
        "<a href=\"https://colab.research.google.com/github/jsboss5/Aryeo-Amenity-Detection/blob/master/Airbnb_Rep_Data_Processing.ipynb\" target=\"_parent\"><img src=\"https://colab.research.google.com/assets/colab-badge.svg\" alt=\"Open In Colab\"/></a>"
      ]
    },
    {
      "cell_type": "markdown",
      "metadata": {
        "id": "sWAhFEJs5tNF",
        "colab_type": "text"
      },
      "source": [
        "**Up until line 14 it's just installing**"
      ]
    },
    {
      "cell_type": "code",
      "metadata": {
        "id": "CGLlgR5WuxfJ",
        "colab_type": "code",
        "colab": {}
      },
      "source": [
        "# Import Packages\n",
        "import os\n",
        "import pandas as pd\n",
        "import random\n",
        "import cv2"
      ],
      "execution_count": 0,
      "outputs": []
    },
    {
      "cell_type": "code",
      "metadata": {
        "id": "t6GDF1G2xsas",
        "colab_type": "code",
        "colab": {}
      },
      "source": [
        "# # Install Detectron2 (locally)\n",
        "import sys\n",
        "!pip3 install -U torch==1.4 torchvision==0.5 -f https://download.pytorch.org/whl/torch_stable.html\n",
        "!pip3 install cython pyyaml==5.1\n",
        "!pip3 install 'git+https://github.com/cocodataset/cocoapi.git#subdirectory=PythonAPI'\n",
        "!pip3 install detectron2 -f https://dl.fbaipublicfiles.com/detectron2/wheels/cu100/index.html"
      ],
      "execution_count": 0,
      "outputs": []
    },
    {
      "cell_type": "code",
      "metadata": {
        "id": "T25HcE9nyd8O",
        "colab_type": "code",
        "colab": {}
      },
      "source": [
        "import torch, torchvision\n",
        "torch.__version__\n",
        "!gcc --version"
      ],
      "execution_count": 0,
      "outputs": []
    },
    {
      "cell_type": "code",
      "metadata": {
        "id": "ipGb73_BzSen",
        "colab_type": "code",
        "colab": {}
      },
      "source": [
        "# Build Detectron2 from source\n",
        "!pip3 install 'git+https://github.com/facebookresearch/detectron2.git'"
      ],
      "execution_count": 0,
      "outputs": []
    },
    {
      "cell_type": "code",
      "metadata": {
        "id": "VR0MNOM-0DPN",
        "colab_type": "code",
        "colab": {}
      },
      "source": [
        "# Import Detectron2/requirements\n",
        "# Setup detectron2 logger\n",
        "import detectron2\n",
        "from detectron2.utils.logger import setup_logger\n",
        "setup_logger()\n",
        "\n",
        "# import some common libraries\n",
        "import matplotlib.pyplot as plt\n",
        "import numpy as np\n",
        "import cv2\n",
        "import random\n",
        "import os\n",
        "import pandas as pd\n",
        "\n",
        "# import some common detectron2 utilities\n",
        "from detectron2 import model_zoo\n",
        "from detectron2.engine import DefaultPredictor\n",
        "from detectron2.config import get_cfg\n",
        "from detectron2.utils.visualizer import Visualizer\n",
        "from detectron2.data import MetadataCatalog\n",
        "\n",
        "# import torch/torchvision\n",
        "import torch, torchvision\n",
        "torch.__version__\n",
        "!gcc --version"
      ],
      "execution_count": 0,
      "outputs": []
    },
    {
      "cell_type": "code",
      "metadata": {
        "id": "3lIajRr4wbpS",
        "colab_type": "code",
        "colab": {}
      },
      "source": [
        "#install wget\n",
        "!pip3 install wget\n"
      ],
      "execution_count": 0,
      "outputs": []
    },
    {
      "cell_type": "code",
      "metadata": {
        "id": "IJYZHDwHwioq",
        "colab_type": "code",
        "colab": {}
      },
      "source": [
        "#install opencv\n",
        "!pip3 install opencv-python\n"
      ],
      "execution_count": 0,
      "outputs": []
    },
    {
      "cell_type": "code",
      "metadata": {
        "id": "3GLGAyNBw3WK",
        "colab_type": "code",
        "colab": {}
      },
      "source": [
        "!pip3 install tqdm "
      ],
      "execution_count": 0,
      "outputs": []
    },
    {
      "cell_type": "code",
      "metadata": {
        "id": "1MaHTDmzw7Zy",
        "colab_type": "code",
        "colab": {}
      },
      "source": [
        "!pip3 install awscli"
      ],
      "execution_count": 0,
      "outputs": []
    },
    {
      "cell_type": "code",
      "metadata": {
        "id": "OBicot6q5Hek",
        "colab_type": "code",
        "colab": {}
      },
      "source": [
        "# # This doesnt needed to be done anymore because i mounted these in google drive\n",
        "# Download required meta-files for V5 - https://storage.googleapis.com/openimages/web/download.html\n",
        "# Training bounding boxes (1.11G)\n",
        "!wget https://storage.googleapis.com/openimages/2018_04/train/train-annotations-bbox.csv\n",
        "\n",
        "# Validating bounding boxes (23.94M)\n",
        "!wget https://storage.googleapis.com/openimages/v5/validation-annotations-bbox.csv\n",
        "    \n",
        "# Testing bounding boxes (73.89M)\n",
        "!wget https://storage.googleapis.com/openimages/v5/test-annotations-bbox.csv\n",
        "\n",
        "# # Class Names (11.73K)\n",
        "!wget https://storage.googleapis.com/openimages/v5/class-descriptions-boxable.csv"
      ],
      "execution_count": 0,
      "outputs": []
    },
    {
      "cell_type": "markdown",
      "metadata": {
        "id": "24NZsuJB593j",
        "colab_type": "text"
      },
      "source": [
        "**Let's start Manipulating Data!!!!**"
      ]
    },
    {
      "cell_type": "code",
      "metadata": {
        "id": "QbR2awaT6ht1",
        "colab_type": "code",
        "colab": {}
      },
      "source": [
        "# Classes of amenities Airbnb mostly cares about\n",
        "subset = [\"Toilet\",\n",
        "          \"Swimming_pool\",\n",
        "          \"Bed\",\n",
        "          \"Billiard_table\",\n",
        "          \"Sink\",\n",
        "          \"Fountain\",\n",
        "          \"Oven\",\n",
        "          \"Ceiling_fan\",\n",
        "          \"Television\",\n",
        "          \"Microwave_oven\",\n",
        "          \"Gas_stove\",\n",
        "          \"Refrigerator\",\n",
        "          \"Kitchen_&_dining_room_table\",\n",
        "          \"Washing_machine\",\n",
        "          \"Bathtub\",\n",
        "          \"Stairs\",\n",
        "          \"Fireplace\",\n",
        "          \"Pillow\",\n",
        "          \"Mirror\",\n",
        "          \"Shower\",\n",
        "          \"Couch\",\n",
        "          \"Countertop\",\n",
        "          \"Coffeemaker\",\n",
        "          \"Dishwasher\",\n",
        "          \"Sofa_bed\",\n",
        "          \"Tree_house\",\n",
        "          \"Towel\",\n",
        "          \"Porch\",\n",
        "          \"Wine_rack\",\n",
        "          \"Jacuzzi\"]"
      ],
      "execution_count": 0,
      "outputs": []
    },
    {
      "cell_type": "code",
      "metadata": {
        "id": "-F5vG65nJrTy",
        "colab_type": "code",
        "colab": {
          "base_uri": "https://localhost:8080/",
          "height": 34
        },
        "outputId": "f0edf215-0147-446a-e9ce-cbfb5aecb11d"
      },
      "source": [
        "#Download only coffee maker training set into CoffeMaker small model google drive foler\n",
        "%cd /content/drive/My Drive/CoffeeMaker Small Model"
      ],
      "execution_count": 16,
      "outputs": [
        {
          "output_type": "stream",
          "text": [
            "/content/drive/My Drive/CoffeeMaker Small Model\n"
          ],
          "name": "stdout"
        }
      ]
    },
    {
      "cell_type": "code",
      "metadata": {
        "id": "s32JuE_8yI-K",
        "colab_type": "code",
        "colab": {}
      },
      "source": [
        "#download all coffeemaker images for train and test.  -   .\n",
        "!python3 downloadOI.py --classes 'Coffeemaker' --dataset train\n",
        "!python3 downloadOI.py --classes 'Coffeemaker' --dataset validation\n"
      ],
      "execution_count": 0,
      "outputs": []
    },
    {
      "cell_type": "code",
      "metadata": {
        "id": "cw3GucXAyI_y",
        "colab_type": "code",
        "colab": {}
      },
      "source": [
        "#Replaces underscores with spaces - matches airbnb classes with those from website\n",
        "for i in range(len(subset)):\n",
        "  subset[i] = subset[i].replace(\"_\", \" \")\n",
        "\n",
        "print(subset)"
      ],
      "execution_count": 0,
      "outputs": []
    },
    {
      "cell_type": "code",
      "metadata": {
        "id": "xBIPhEsw3lr0",
        "colab_type": "code",
        "colab": {}
      },
      "source": [
        "#convert this list to a string for the command line\n",
        "subset_string = str()\n",
        "for amenity in subset:\n",
        "  subset_string += str(amenity) + \",\"\n",
        "subset_string = subset_string[:len(subset_string)-1]\n",
        "print(subset_string)"
      ],
      "execution_count": 0,
      "outputs": []
    },
    {
      "cell_type": "code",
      "metadata": {
        "id": "jINLGhh-gxxT",
        "colab_type": "code",
        "colab": {}
      },
      "source": [
        "#DONE\n",
        "#labeled images directory - download images here once - already DID THIS\n",
        "cd /content/drive/My Drive/Labeled Images"
      ],
      "execution_count": 0,
      "outputs": []
    },
    {
      "cell_type": "code",
      "metadata": {
        "id": "Brf3kMAT44Bt",
        "colab_type": "code",
        "colab": {}
      },
      "source": [
        "#DONE\n",
        "#Downloads all of the validation data - already done!\n",
        "!python3 downloadOI.py --classes 'Toilet,Swimming pool,Bed,Billiard table,Sink,Fountain,Oven,Ceiling fan,Television,Microwave oven,Gas stove,Refrigerator,Kitchen & dining room table,Washing machine,Bathtub,Stairs,Fireplace,Pillow,Mirror,Shower,Couch,Countertop,Coffeemaker,Dishwasher,Sofa bed,Tree house,Towel,Porch,Wine rack,Jacuzzi' --dataset validation\n",
        "\n"
      ],
      "execution_count": 0,
      "outputs": []
    },
    {
      "cell_type": "code",
      "metadata": {
        "id": "lQa73wm2hFV2",
        "colab_type": "code",
        "colab": {}
      },
      "source": [
        "#top layer - default workspace\n",
        "cd /content\n"
      ],
      "execution_count": 0,
      "outputs": []
    },
    {
      "cell_type": "code",
      "metadata": {
        "id": "_vSO5mGvgXvn",
        "colab_type": "code",
        "colab": {}
      },
      "source": [
        "from google.colab import drive\n",
        "drive.mount('/content/drive')"
      ],
      "execution_count": 0,
      "outputs": []
    },
    {
      "cell_type": "markdown",
      "metadata": {
        "id": "H1p1l6_3kZkL",
        "colab_type": "text"
      },
      "source": [
        "**Change data to Detectron2 Style**"
      ]
    },
    {
      "cell_type": "markdown",
      "metadata": {
        "id": "jgsHP3qOGd6s",
        "colab_type": "text"
      },
      "source": [
        "First in order to change to get everything into detectron2 style, we must find the image id for every single image - I'm going to do this for the Coffee set first\n",
        "\n",
        "The function is get_image_ids"
      ]
    },
    {
      "cell_type": "code",
      "metadata": {
        "id": "MoRNTnKFDRuJ",
        "colab_type": "code",
        "colab": {}
      },
      "source": [
        "def get_image_ids(image_folder=None):\n",
        "    \"\"\"\n",
        "    Explores a folder of images and gets their ID from their file name.\n",
        "    Returns a list of all image ID's in image_folder.\n",
        "    E.g. image_folder/608fda8c976e0ac.jpg -> [\"608fda8c976e0ac\"]\n",
        "    \n",
        "    Params\n",
        "    ------\n",
        "    image_folder (str): path to folder of images, e.g. \"../validation/\"\n",
        "    \"\"\"\n",
        "    return [os.path.splitext(img_name)[0] for img_name in os.listdir(image_folder)]"
      ],
      "execution_count": 0,
      "outputs": []
    },
    {
      "cell_type": "code",
      "metadata": {
        "id": "6RXDKFHsIP7h",
        "colab_type": "code",
        "colab": {
          "base_uri": "https://localhost:8080/",
          "height": 34
        },
        "outputId": "56d7d564-fd6e-4c32-95ea-68d54bc365a3"
      },
      "source": [
        "#get into the val images directory for coffee\n",
        "%cd /content/drive/My Drive/CoffeeMaker Small Model"
      ],
      "execution_count": 18,
      "outputs": [
        {
          "output_type": "stream",
          "text": [
            "/content/drive/My Drive/CoffeeMaker Small Model\n"
          ],
          "name": "stdout"
        }
      ]
    },
    {
      "cell_type": "code",
      "metadata": {
        "id": "fJDJ1n97Pgci",
        "colab_type": "code",
        "colab": {}
      },
      "source": [
        "#get into the val images directory with all val images\n",
        "%cd /content/drive/My Drive/Labeled Images"
      ],
      "execution_count": 0,
      "outputs": []
    },
    {
      "cell_type": "code",
      "metadata": {
        "id": "wRrDok6RILNQ",
        "colab_type": "code",
        "colab": {}
      },
      "source": [
        "val_image_ids = get_image_ids(\"validation\")  #stores list of validation ids into val_image_ids\n",
        "print(val_image_ids[:10])                 #prints first 10\n",
        "len(val_image_ids)\n"
      ],
      "execution_count": 0,
      "outputs": []
    },
    {
      "cell_type": "code",
      "metadata": {
        "id": "gFnz3F5jQcpk",
        "colab_type": "code",
        "colab": {}
      },
      "source": [
        "#This view shows the csv converting label name to the actual class name for\n",
        "#all 600 classes on the open source thing\n",
        "pd.read_csv(\"class-descriptions-boxable.csv\",\n",
        "                          names=[\"LabelName\", \"ClassName\"])"
      ],
      "execution_count": 0,
      "outputs": []
    },
    {
      "cell_type": "markdown",
      "metadata": {
        "id": "zAMDVWBTkkv5",
        "colab_type": "text"
      },
      "source": [
        "Now we are going to add a classname column to the existing csv file in addition to a class index column"
      ]
    },
    {
      "cell_type": "code",
      "metadata": {
        "id": "ePkT0n67SO0l",
        "colab_type": "code",
        "colab": {}
      },
      "source": [
        " #Make a function which formats a specific annotations csv based on what we're dealing with\n",
        "def format_annotations(image_folder, annotation_file, target_classes=None):\n",
        "    \"\"\"\n",
        "    TODO - NOTE: This function could (definitely can) be faster.\n",
        "    TODO - Some ideas: skip the use of pandas entirely and use CSV's\n",
        "    \n",
        "    Formats annotation_file based on images contained in image_folder.\n",
        "    Will get all unique image IDs and make sure annotation_file\n",
        "    only contains those (the target images).\n",
        "    Adds meta-data to annotation_file such as class names and categories.\n",
        "    If target_classes isn't None, the returned annotations will be filtered by this list.\n",
        "    Note: image_folder and annotation_file should both be validation if working on\n",
        "    validation set or both be training if working on training set.\n",
        "    \n",
        "    Params\n",
        "    ------\n",
        "    image_folder (str): path to folder of target images.\n",
        "    annotation_file (str): path to annotation file of target images.\n",
        "    target_classes (list), optional: a list of target classes you'd like to filter labels.\n",
        "    \"\"\"\n",
        "    # Get all image ids from target directory\n",
        "    image_ids = get_image_ids(image_folder)\n",
        "    \n",
        "    # Setup annotation file and classnames\n",
        "    annot_file = pd.read_csv(annotation_file)\n",
        "    classes = pd.read_csv(\"class-descriptions-boxable.csv\",\n",
        "                          names=[\"LabelName\", \"ClassName\"])\n",
        "    \n",
        "    # Create classname column on annotations which converts label codes to string labels\n",
        "    annot_file[\"ClassName\"] = annot_file[\"LabelName\"].map(classes.set_index(\"LabelName\")[\"ClassName\"])\n",
        "    \n",
        "    # Make sure we only get the images we're concerned about\n",
        "    if target_classes:\n",
        "        annot_file = annot_file[annot_file[\"ImageID\"].isin(image_ids) & annot_file[\"ClassName\"].isin(target_classes)]\n",
        "    else:\n",
        "        annot_file = annot_file[annot_file[\"ImageID\"].isin(image_ids)]\n",
        "   \n",
        "    # Add ClassID column, e.g. \"Bathtub, Toilet\" -> 1, 2\n",
        "    annot_file[\"ClassID\"] = pd.Categorical(annot_file[\"ClassName\"]).codes\n",
        "    \n",
        "    return annot_file"
      ],
      "execution_count": 0,
      "outputs": []
    },
    {
      "cell_type": "code",
      "metadata": {
        "id": "Ftuuy6VaYWEp",
        "colab_type": "code",
        "colab": {}
      },
      "source": [
        "#without target classes\n",
        "# runs it on the entire validation set - include the target_classes = subset) if you want only specified classes\n",
        "# I'm not sure if the validation set should include images from other classes though - i think it should \n",
        "%%time\n",
        "val_annot = format_annotations(\"validation\", \"validation-annotations-bbox.csv\")\n",
        "val_annot.head()\n",
        "print(val_annot)"
      ],
      "execution_count": 0,
      "outputs": []
    },
    {
      "cell_type": "code",
      "metadata": {
        "id": "E3Y_Wv2-aQSE",
        "colab_type": "code",
        "colab": {
          "base_uri": "https://localhost:8080/",
          "height": 478
        },
        "outputId": "6d212032-8acf-4284-83b9-d66f59906f7f"
      },
      "source": [
        "#with only target classes\n",
        "%%time\n",
        "val_annot = format_annotations(\"validation\", \"validation-annotations-bbox.csv\", target_classes=subset)\n",
        "val_annot.head()\n",
        "print(val_annot)"
      ],
      "execution_count": 22,
      "outputs": [
        {
          "output_type": "stream",
          "text": [
            "                 ImageID  Source  LabelName  ...  IsInside    ClassName  ClassID\n",
            "28421   182c1f2bfa4b4280  xclick  /m/07xyvk  ...         0  Coffeemaker        0\n",
            "35664   1e2c50b991a82ee8  xclick  /m/07xyvk  ...         0  Coffeemaker        0\n",
            "44250   2540d6d0d881c2ba  xclick  /m/07xyvk  ...         0  Coffeemaker        0\n",
            "73134   3d76574f1dec8b0a  xclick  /m/07xyvk  ...         0  Coffeemaker        0\n",
            "83440   460475ca9d34e13e  xclick  /m/07xyvk  ...         0  Coffeemaker        0\n",
            "164845  8ba2a53001aeba10  xclick  /m/07xyvk  ...         0  Coffeemaker        0\n",
            "164846  8ba2a53001aeba10  xclick  /m/07xyvk  ...         0  Coffeemaker        0\n",
            "165965  8cb74f2517f0a7ae  xclick  /m/07xyvk  ...         0  Coffeemaker        0\n",
            "177833  9685d11149d6eb2e  xclick  /m/07xyvk  ...         0  Coffeemaker        0\n",
            "185581  9c56d526fd608f18  xclick  /m/07xyvk  ...         0  Coffeemaker        0\n",
            "203163  aa9b35d1bee25627  xclick  /m/07xyvk  ...         0  Coffeemaker        0\n",
            "209385  af8bb7fe53a45294  xclick  /m/07xyvk  ...         0  Coffeemaker        0\n",
            "223526  bba20806674cede8  xclick  /m/07xyvk  ...         0  Coffeemaker        0\n",
            "226829  be4baa5e56b3067a  xclick  /m/07xyvk  ...         0  Coffeemaker        0\n",
            "235041  c533c5cf9e9558b5  xclick  /m/07xyvk  ...         0  Coffeemaker        0\n",
            "248363  d0bbfdd40af35fcc  xclick  /m/07xyvk  ...         0  Coffeemaker        0\n",
            "248491  d0dd806989582fe0  xclick  /m/07xyvk  ...         0  Coffeemaker        0\n",
            "251689  d39ad8f98ceb04ee  xclick  /m/07xyvk  ...         0  Coffeemaker        0\n",
            "258784  d9149921780cc18a  xclick  /m/07xyvk  ...         0  Coffeemaker        0\n",
            "261405  db4cb441eda40a49  xclick  /m/07xyvk  ...         0  Coffeemaker        0\n",
            "303075  ff170cdebcd8d899  xclick  /m/07xyvk  ...         0  Coffeemaker        0\n",
            "\n",
            "[21 rows x 15 columns]\n",
            "CPU times: user 394 ms, sys: 56.8 ms, total: 451 ms\n",
            "Wall time: 1.32 s\n"
          ],
          "name": "stdout"
        }
      ]
    },
    {
      "cell_type": "code",
      "metadata": {
        "id": "vEVWeMpEbmAN",
        "colab_type": "code",
        "colab": {
          "base_uri": "https://localhost:8080/",
          "height": 34
        },
        "outputId": "7d65504f-5954-4de9-aca2-ca3a41b87f69"
      },
      "source": [
        "len(val_annot)\n"
      ],
      "execution_count": 23,
      "outputs": [
        {
          "output_type": "execute_result",
          "data": {
            "text/plain": [
              "21"
            ]
          },
          "metadata": {
            "tags": []
          },
          "execution_count": 23
        }
      ]
    },
    {
      "cell_type": "code",
      "metadata": {
        "id": "0Toq8GhBbo3f",
        "colab_type": "code",
        "colab": {
          "base_uri": "https://localhost:8080/",
          "height": 52
        },
        "outputId": "2020fbf9-8615-4c72-bf14-1fcabd1edd13"
      },
      "source": [
        "#it's interesting to compare these values for when val_annot includes only subset classes and not \n",
        "#not subset classes\n",
        "val_annot[\"ClassName\"].value_counts()\n"
      ],
      "execution_count": 24,
      "outputs": [
        {
          "output_type": "execute_result",
          "data": {
            "text/plain": [
              "Coffeemaker    21\n",
              "Name: ClassName, dtype: int64"
            ]
          },
          "metadata": {
            "tags": []
          },
          "execution_count": 24
        }
      ]
    },
    {
      "cell_type": "markdown",
      "metadata": {
        "id": "x20UNOIvXbCJ",
        "colab_type": "text"
      },
      "source": [
        "\n",
        "**Convert Coordinates from relative to absolute!**"
      ]
    },
    {
      "cell_type": "code",
      "metadata": {
        "id": "tpgnawrbVYw-",
        "colab_type": "code",
        "colab": {}
      },
      "source": [
        "# Write function to convert bounding boxes from relative to absolute\n",
        "# Takes in x0, y0, x1, y1, height and width and converts from relative to absolute\n",
        "def rel_to_absolute(bbox, height, width):\n",
        "    \"\"\"\n",
        "    Converts bounding box dimensions from relative to absolute pixel values (Detectron2 style).\n",
        "    See: https://detectron2.readthedocs.io/modules/structures.html#detectron2.structures.BoxMode\n",
        "    \n",
        "    Params\n",
        "    ------\n",
        "    bbox (array): relative dimensions of bounding box in format (x0, y0, x1, y1 or Xmin, Ymin, Xmax, Ymax)\n",
        "    height (int): height of image\n",
        "    width (int): width of image\n",
        "    \"\"\"\n",
        "    bbox[0] = np.multiply(bbox[0], width) # x0\n",
        "    bbox[1] = np.multiply(bbox[1], height) # y0\n",
        "    bbox[2] = np.multiply(bbox[2], width) # x1\n",
        "    bbox[3] = np.multiply(bbox[3], height) # y1\n",
        "    return bbox"
      ],
      "execution_count": 0,
      "outputs": []
    },
    {
      "cell_type": "code",
      "metadata": {
        "id": "vUaQP-CrWLZR",
        "colab_type": "code",
        "colab": {}
      },
      "source": [
        "#Literally just to show how it works - creates fake bbox \n",
        "bbox = np.array([0.27286136, 0.40486726, 0.84070796, 1.        ])\n",
        "bbox[0] = np.multiply(bbox[0], 100)\n",
        "bbox"
      ],
      "execution_count": 0,
      "outputs": []
    },
    {
      "cell_type": "code",
      "metadata": {
        "id": "nex5U31NWkWs",
        "colab_type": "code",
        "colab": {
          "base_uri": "https://localhost:8080/",
          "height": 34
        },
        "outputId": "4717de48-b5ed-4ffe-b885-a0d94fd2e8c9"
      },
      "source": [
        "#converts the fake bounding box from above and converts it to absolute coordinates\n",
        "bbox_abs = rel_to_absolute(bbox, 100, 200)\n",
        "bbox_abs\n"
      ],
      "execution_count": 27,
      "outputs": [
        {
          "output_type": "execute_result",
          "data": {
            "text/plain": [
              "array([5457.2272  ,   40.486726,  168.141592,  100.      ])"
            ]
          },
          "metadata": {
            "tags": []
          },
          "execution_count": 27
        }
      ]
    },
    {
      "cell_type": "markdown",
      "metadata": {
        "id": "eIF1TY4wXl3j",
        "colab_type": "text"
      },
      "source": [
        "**Start Creating Dataset dictionaries**"
      ]
    },
    {
      "cell_type": "code",
      "metadata": {
        "id": "_DvgipUKXaRy",
        "colab_type": "code",
        "colab": {}
      },
      "source": [
        "# Import CV2 for getting height & width of image\n",
        "import cv2\n",
        "\n",
        "# Import Detectron2 BoxMode for bounding boxes style\n",
        "from detectron2.structures import BoxMode"
      ],
      "execution_count": 0,
      "outputs": []
    },
    {
      "cell_type": "code",
      "metadata": {
        "id": "W7iAITwzXwyZ",
        "colab_type": "code",
        "colab": {}
      },
      "source": [
        "# Next: functionise the below code\n",
        "def get_image_dicts(image_folder):\n",
        "    \"\"\"\n",
        "    Returns Detectron2 style labels of images in image_folder based on data in annotations.\n",
        "    \n",
        "    TODO -- Maybe create some verbosity here? AKA, what are the outputs?\n",
        "    TODO -- what if annotations = None? Can we create a call to create an annotations CSV in 1 hit?\n",
        "    \n",
        "    Params\n",
        "    ------\n",
        "    image_folder (str): target folder containing images\n",
        "    annotations (DataFrame): DataFrame of image label data\n",
        "    \"\"\"\n",
        "    # Get annotations (automatically picks annotations CSV based on image_folder)\n",
        "    annotations = format_annotations(image_folder, \n",
        "                                     image_folder+\"-annotations-bbox.csv\", \n",
        "                                     target_classes=subset) # TODO: this uses a global variable\n",
        "    \n",
        "    # Get all unique image ids from target folder\n",
        "    img_ids = get_image_ids(image_folder)\n",
        "    \n",
        "    # Start creating image dictionaries (Detectron2 style labelling)\n",
        "    img_dicts = []\n",
        "    for img in img_ids:\n",
        "        record = {}\n",
        "        \n",
        "        # Get image metadata\n",
        "        file_name = image_folder + \"/\" + img + \".jpg\"\n",
        "        height, width = cv2.imread(file_name).shape[:2]\n",
        "        img_data = annotations[annotations[\"ImageID\"] == img].reset_index() # reset index important for images\n",
        "                                                                            # with multiple objects\n",
        "        # Update record dictionary\n",
        "        record[\"file_name\"] = file_name\n",
        "        record[\"image_id\"] = img\n",
        "        record[\"height\"] = height\n",
        "        record[\"width\"] = width\n",
        "        \n",
        "        # Create list of image annotations (labels)\n",
        "        img_annotations = []\n",
        "        for i in range(len(img_data)): # this is where we loop through examples with multiple objects in an image\n",
        "            category_id = img_data.loc[i][\"ClassID\"]\n",
        "            # Get bounding box coordinates in Detectron2 style (x0, y0, x1, y1)\n",
        "            bbox = np.float32(img_data.loc[i][[\"XMin\", \"YMin\", \"XMax\", \"YMax\"]].values) # needs to be float/int\n",
        "            # Convert bbox from relative to absolute pixel dimensions\n",
        "            bbox = rel_to_absolute(bbox=bbox, height=height, width=width)\n",
        "            # Setup annot (1 annot = 1 label, there might be more) dictionary\n",
        "            annot = {\n",
        "                \"bbox\": bbox,\n",
        "                \"bbox_mode\": BoxMode.XYXY_ABS, # See: https://detectron2.readthedocs.io/modules/structures.html#detectron2.structures.BoxMode.XYXY_ABS\n",
        "                \"category_id\": category_id\n",
        "            }\n",
        "            img_annotations.append(annot)\n",
        "            \n",
        "        # Update record dictionary with annotations\n",
        "        record[\"annotations\"] = img_annotations\n",
        "        \n",
        "        # Add record dictionary with image annotations to img_dicts list\n",
        "        img_dicts.append(record)\n",
        "    return img_dicts"
      ],
      "execution_count": 0,
      "outputs": []
    },
    {
      "cell_type": "code",
      "metadata": {
        "id": "tODVI62CbsH8",
        "colab_type": "code",
        "colab": {}
      },
      "source": [
        "%%time\n",
        "val_img_dicts = get_image_dicts(\"validation\")\n",
        "print(len(val_img_dicts))\n",
        "print(val_img_dicts)"
      ],
      "execution_count": 0,
      "outputs": []
    },
    {
      "cell_type": "code",
      "metadata": {
        "id": "TWTy0dnAcLWk",
        "colab_type": "code",
        "colab": {
          "base_uri": "https://localhost:8080/",
          "height": 158
        },
        "outputId": "04886925-d533-411b-c707-6454028c25a3"
      },
      "source": [
        "import random\n",
        "number = round(random.randint(0, len(val_img_dicts)))\n",
        "print(number)\n",
        "val_img_dicts[number]"
      ],
      "execution_count": 48,
      "outputs": [
        {
          "output_type": "stream",
          "text": [
            "11\n"
          ],
          "name": "stdout"
        },
        {
          "output_type": "execute_result",
          "data": {
            "text/plain": [
              "{'annotations': [{'bbox': array([283.2,  19.2, 894.4, 768. ], dtype=float32),\n",
              "   'bbox_mode': <BoxMode.XYXY_ABS: 0>,\n",
              "   'category_id': 0}],\n",
              " 'file_name': 'validation/bba20806674cede8.jpg',\n",
              " 'height': 768,\n",
              " 'image_id': 'bba20806674cede8',\n",
              " 'width': 1024}"
            ]
          },
          "metadata": {
            "tags": []
          },
          "execution_count": 48
        }
      ]
    },
    {
      "cell_type": "code",
      "metadata": {
        "id": "DfWF-gEvcYKq",
        "colab_type": "code",
        "colab": {}
      },
      "source": [
        "val_annot.head()\n"
      ],
      "execution_count": 0,
      "outputs": []
    },
    {
      "cell_type": "code",
      "metadata": {
        "id": "x5W2jGZHchiu",
        "colab_type": "code",
        "colab": {}
      },
      "source": [
        "val_annot = val_annot.sort_values(\"ClassID\")\n",
        "val_annot.head()\n"
      ],
      "execution_count": 0,
      "outputs": []
    },
    {
      "cell_type": "code",
      "metadata": {
        "id": "ituzGlCec2mC",
        "colab_type": "code",
        "colab": {}
      },
      "source": [
        "#This literally just puts all the classIDs as values in a dictionary\n",
        "# and then prints them so you can see them as a list\n",
        "things = val_annot.set_index(\"ClassID\").to_dict()[\"ClassName\"]\n",
        "thing_list = list(things.values())\n",
        "thing_list"
      ],
      "execution_count": 0,
      "outputs": []
    },
    {
      "cell_type": "code",
      "metadata": {
        "id": "0rsS-THOc5K3",
        "colab_type": "code",
        "colab": {}
      },
      "source": [
        "# Register Data in Detectron2 style\n",
        "from detectron2.data import DatasetCatalog, MetadataCatalog"
      ],
      "execution_count": 0,
      "outputs": []
    },
    {
      "cell_type": "code",
      "metadata": {
        "id": "KVBRs_h5c9m6",
        "colab_type": "code",
        "colab": {}
      },
      "source": [
        "for d in [\"validation\"]:\n",
        "    # dataset_name, mapper function\n",
        "    DatasetCatalog.register(d + \"_dataset\", lambda d=d: get_image_dicts(d))\n",
        "    MetadataCatalog.get(d + \"_dataset\").set(thing_classes=thing_list)\n",
        "val_metadata = MetadataCatalog.get(\"validation_dataset\")"
      ],
      "execution_count": 0,
      "outputs": []
    },
    {
      "cell_type": "code",
      "metadata": {
        "id": "R8Kt7-HxdDMI",
        "colab_type": "code",
        "colab": {}
      },
      "source": [
        "MetadataCatalog.list()\n"
      ],
      "execution_count": 0,
      "outputs": []
    },
    {
      "cell_type": "code",
      "metadata": {
        "id": "zxjh58r9dGQ-",
        "colab_type": "code",
        "colab": {}
      },
      "source": [
        "#Not really sure what metadata does though I know it is data about data\n",
        "val_metadata"
      ],
      "execution_count": 0,
      "outputs": []
    },
    {
      "cell_type": "markdown",
      "metadata": {
        "id": "PJOHwxC3fUcr",
        "colab_type": "text"
      },
      "source": [
        "##View the Annotated Images!!!!\n",
        "Proves that data manipulation works"
      ]
    },
    {
      "cell_type": "code",
      "metadata": {
        "id": "jRwdBJ-xfL6k",
        "colab_type": "code",
        "colab": {}
      },
      "source": [
        "#I just chose an image to visualize using python display\n",
        "from IPython.display import Image\n",
        "Image(\"validation/ff170cdebcd8d899.jpg\")"
      ],
      "execution_count": 0,
      "outputs": []
    },
    {
      "cell_type": "code",
      "metadata": {
        "id": "vQDVVJNrgBqJ",
        "colab_type": "code",
        "colab": {}
      },
      "source": [
        "# Make a function to view images\n",
        "def view_images(image_dict, random_image=True, n_images=1):\n",
        "    plt.figure(figsize=(30,30))\n",
        "    if random_image:\n",
        "        for i, d in enumerate(random.sample(image_dict, n_images)):\n",
        "            img=cv2.imread(d[\"file_name\"])\n",
        "            visualizer = Visualizer(img[:, :, :], \n",
        "                            metadata=val_metadata, \n",
        "                            scale=0.6)\n",
        "            vis = visualizer.draw_dataset_dict(d)\n",
        "            ax = plt.subplot(n_images, 1, i+1)\n",
        "            plt.imshow(vis.get_image()[:, :, ::-1])\n",
        "            plt.axis(\"off\")"
      ],
      "execution_count": 0,
      "outputs": []
    },
    {
      "cell_type": "code",
      "metadata": {
        "id": "pnMc9su_qKEE",
        "colab_type": "code",
        "colab": {}
      },
      "source": [
        "view_images(val_img_dicts)\n"
      ],
      "execution_count": 0,
      "outputs": []
    },
    {
      "cell_type": "code",
      "metadata": {
        "id": "g319foAbqaGJ",
        "colab_type": "code",
        "colab": {}
      },
      "source": [
        ""
      ],
      "execution_count": 0,
      "outputs": []
    }
  ]
}